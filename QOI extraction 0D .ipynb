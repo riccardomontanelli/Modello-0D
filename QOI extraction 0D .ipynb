{
 "cells": [
  {
   "cell_type": "code",
   "execution_count": 4,
   "metadata": {},
   "outputs": [
    {
     "name": "stdout",
     "output_type": "stream",
     "text": [
      "ct and SF are 1050 trajectories and 21600 instant\n"
     ]
    }
   ],
   "source": [
    "import numpy as np\n",
    "\n",
    "#Rows are different trajectories\n",
    "#Columns are different time instant\n",
    "ct = np.load(\"ct_totale.npy\")\n",
    "SF = np.load(\"SF_totale.npy\")\n",
    "print(\"ct and SF are \" + str(ct.shape[0]) + \" trajectories and \" + str(ct.shape[1]) + \" instant\")"
   ]
  },
  {
   "cell_type": "code",
   "execution_count": 5,
   "metadata": {},
   "outputs": [
    {
     "data": {
      "text/plain": [
       "(1050, 21600)"
      ]
     },
     "execution_count": 5,
     "metadata": {},
     "output_type": "execute_result"
    }
   ],
   "source": [
    "ct.shape"
   ]
  },
  {
   "cell_type": "code",
   "execution_count": 6,
   "metadata": {},
   "outputs": [],
   "source": [
    "# We want now to extract some QOI that are not the average but are a specifica value in time:\n",
    "# QOI after the infusion 2h\n",
    "# QOI at the end of the time 6h\n",
    "# QOI averaged in a shorter time 3h\n",
    "# I take for all trajectories only the time considered \n",
    "\n",
    "ct_infusion = ct[:,7200]\n",
    "SF_infusion = SF[:,7200]\n",
    "ct_3h = np.mean(ct[:,0:10800], axis=1)\n",
    "SF_3h = np.mean(SF[:,0:10800], axis=1)\n",
    "ct_final = ct[:,-1]\n",
    "SF_final = SF[:,-1]\n"
   ]
  },
  {
   "cell_type": "code",
   "execution_count": 7,
   "metadata": {},
   "outputs": [
    {
     "name": "stdout",
     "output_type": "stream",
     "text": [
      "ct infusion (1050,)\n",
      "SF infusion  (1050,)\n",
      "ct 3h (1050,)\n",
      "SF 3h (1050,)\n",
      "ct final (1050,)\n",
      "ct final (1050,)\n"
     ]
    }
   ],
   "source": [
    "print(\"ct infusion \" + str(ct_infusion.shape))\n",
    "print(\"SF infusion  \" + str(SF_infusion.shape))\n",
    "print(\"ct 3h \" + str(ct_3h.shape))\n",
    "print(\"SF 3h \" + str(SF_3h.shape))\n",
    "print(\"ct final \" + str(ct_final.shape))\n",
    "print(\"ct final \" + str(SF_final.shape))"
   ]
  },
  {
   "cell_type": "code",
   "execution_count": 8,
   "metadata": {},
   "outputs": [],
   "source": [
    "import scipy\n",
    "scipy.io.savemat('safe_R1.1\\Simulazione puntuale\\ct_infusion.mat', {'ct_infusion': ct_infusion})\n",
    "scipy.io.savemat('safe_R1.1\\Simulazione puntuale\\SF_infusion.mat', {'SF_infusion': SF_infusion})\n",
    "scipy.io.savemat('safe_R1.1\\Simulazione puntuale\\ct_3h.mat', {'ct_3h': ct_3h})\n",
    "scipy.io.savemat('safe_R1.1\\Simulazione puntuale\\SF_3h.mat', {'SF_3h': SF_3h})\n",
    "scipy.io.savemat('safe_R1.1\\Simulazione puntuale\\ct_final.mat', {'ct_final': ct_final})\n",
    "scipy.io.savemat('safe_R1.1\\Simulazione puntuale\\SF_final.mat', {'SF_final': SF_final})"
   ]
  }
 ],
 "metadata": {
  "kernelspec": {
   "display_name": "Python 3",
   "language": "python",
   "name": "python3"
  },
  "language_info": {
   "codemirror_mode": {
    "name": "ipython",
    "version": 3
   },
   "file_extension": ".py",
   "mimetype": "text/x-python",
   "name": "python",
   "nbconvert_exporter": "python",
   "pygments_lexer": "ipython3",
   "version": "3.11.0"
  }
 },
 "nbformat": 4,
 "nbformat_minor": 2
}
