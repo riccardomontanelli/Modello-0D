{
 "cells": [
  {
   "cell_type": "code",
   "execution_count": 10,
   "metadata": {},
   "outputs": [],
   "source": [
    "# Extraction of the minimum and maxiumum for the 3D modedel from the snapshpots\n",
    "import vtk\n",
    "import numpy as np\n",
    "import math\n",
    "from vtk.util import numpy_support as VN\n",
    "from scipy.io import savemat\n",
    "from IPython.display import clear_output\n",
    "\n",
    "N = 70;\n",
    "M = 7;\n",
    "\n",
    "ODIR = r\"C:\\Users\\utente\\Riccardo\\Documenti\\Uni\\2\\Tesi\\Simulazionefinale\\snapshots_2/\"\n",
    "\n",
    "output_t = [\"Ct_t\", \"SF\", \"Cv_t\"]\n",
    "par_t = [\"Ct\", \"SF\", \"Cv\"]\n",
    "\n",
    "ind = 1 # 0: Ct_t; 1: SF; 2: Cv_t\n",
    "maxx = np.zeros([N*(M+1), 18])\n",
    "minn = np.zeros([N*(M+1), 18])\n",
    "niter=N*(M+1)\n",
    "\n",
    "for i in range(1,niter + 1):\n",
    "\ta = 0\n",
    "\n",
    "\tprint(\"Sample n.\"+str(i) + \" \" + par_t[ind])\n",
    "\n",
    "\tfor timestep in range(1,172,10):\n",
    "\n",
    "\t\ti_file = ODIR + str(i) + '/' + output_t[ind] + str(timestep) + '.vtk'\n",
    "\t\t\n",
    "\n",
    "        # Carica il file VTK\n",
    "\t\treader = vtk.vtkDataSetReader()\n",
    "\t\treader.SetFileName(i_file)\n",
    "\t\treader.Update()\n",
    "\t\t# Ottieni l'output del file VTK\n",
    "\t\toutput = reader.GetOutput()\n",
    "\t\t# Ottieni l'array dei dati della quantità di interesse \n",
    "\t\tdata_array = output.GetPointData().GetArray(par_t[ind])\n",
    "\t\t# Inizializza il valore minimo\n",
    "\t\t# Scansiona tutti i valori nell'array e trova il minimo\n",
    "\t\tvalues = VN.vtk_to_numpy(data_array)\n",
    "\t\tminSF = np.min(values)\n",
    "\t\tmaxSF = np.max(values)\n",
    "\t\t\n",
    "\n",
    "\t\tminn[i-1, a] = minSF\n",
    "\t\tmaxx[i-1, a] = maxSF\n",
    "\t\ta = a + 1\n",
    "\t\tprint(minn)\n",
    "\tclear_output(wait=False)"
   ]
  },
  {
   "cell_type": "code",
   "execution_count": 11,
   "metadata": {},
   "outputs": [
    {
     "data": {
      "text/plain": [
       "(560, 18)"
      ]
     },
     "execution_count": 11,
     "metadata": {},
     "output_type": "execute_result"
    }
   ],
   "source": [
    "minn.shape"
   ]
  },
  {
   "cell_type": "code",
   "execution_count": 12,
   "metadata": {},
   "outputs": [],
   "source": [
    " \n",
    "\n",
    "SF_average_min = np.mean(minn, axis=1)\n",
    "SF_infusion_min = minn[:,6]\n",
    "SF_3h_min = np.mean(minn[:, 0:9], axis=1)\n",
    "SF_final_min = minn[:, -1]\n",
    "\n",
    "SF_average_max = np.mean(maxx, axis=1)\n",
    "SF_infusion_max = maxx[:,6]\n",
    "SF_3h_max = np.mean(maxx[:, 0:9], axis=1)\n",
    "SF_final_max = maxx[:, -1]"
   ]
  },
  {
   "cell_type": "code",
   "execution_count": 13,
   "metadata": {},
   "outputs": [],
   "source": [
    "from scipy.io import savemat\n",
    "\n",
    "savemat('SF_average_min.mat', {'SF_average_min': SF_average_min})\n",
    "savemat('SF_infusion_min.mat', {'SF_infusion_min': SF_infusion_min})\n",
    "savemat('SF_3h_min.mat', {'SF_3h_min': SF_3h_min})\n",
    "savemat('SF_final_min.mat', {'SF_final_min': SF_final_min})\n",
    "\n",
    "savemat('SF_average_max.mat', {'SF_average_max': SF_average_max})\n",
    "savemat('SF_infusion_max.mat', {'SF_infusion_max': SF_infusion_max})\n",
    "savemat('SF_3h_max.mat', {'SF_3h_max': SF_3h_max})\n",
    "savemat('SF_final_max.mat', {'SF_final_max': SF_final_max})"
   ]
  }
 ],
 "metadata": {
  "kernelspec": {
   "display_name": "Python 3",
   "language": "python",
   "name": "python3"
  },
  "language_info": {
   "codemirror_mode": {
    "name": "ipython",
    "version": 3
   },
   "file_extension": ".py",
   "mimetype": "text/x-python",
   "name": "python",
   "nbconvert_exporter": "python",
   "pygments_lexer": "ipython3",
   "version": "3.12.2"
  }
 },
 "nbformat": 4,
 "nbformat_minor": 2
}
