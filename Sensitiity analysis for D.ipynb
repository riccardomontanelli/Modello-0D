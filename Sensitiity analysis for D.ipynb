{
 "cells": [
  {
   "cell_type": "code",
   "execution_count": 1,
   "metadata": {},
   "outputs": [
    {
     "data": {
      "text/html": [
       "<div>\n",
       "<style scoped>\n",
       "    .dataframe tbody tr th:only-of-type {\n",
       "        vertical-align: middle;\n",
       "    }\n",
       "\n",
       "    .dataframe tbody tr th {\n",
       "        vertical-align: top;\n",
       "    }\n",
       "\n",
       "    .dataframe thead th {\n",
       "        text-align: right;\n",
       "    }\n",
       "</style>\n",
       "<table border=\"1\" class=\"dataframe\">\n",
       "  <thead>\n",
       "    <tr style=\"text-align: right;\">\n",
       "      <th></th>\n",
       "      <th>Symbol</th>\n",
       "      <th>Physical quantity</th>\n",
       "      <th>min</th>\n",
       "      <th>max</th>\n",
       "    </tr>\n",
       "  </thead>\n",
       "  <tbody>\n",
       "    <tr>\n",
       "      <th>0</th>\n",
       "      <td>MW</td>\n",
       "      <td>Molecular weight</td>\n",
       "      <td>162.00</td>\n",
       "      <td>539.00</td>\n",
       "    </tr>\n",
       "    <tr>\n",
       "      <th>1</th>\n",
       "      <td>log(P_{7,4 })</td>\n",
       "      <td>Log partition coefficient</td>\n",
       "      <td>-2.62</td>\n",
       "      <td>2.63</td>\n",
       "    </tr>\n",
       "    <tr>\n",
       "      <th>2</th>\n",
       "      <td>HD</td>\n",
       "      <td>Hydrogen donor</td>\n",
       "      <td>0.00</td>\n",
       "      <td>3.00</td>\n",
       "    </tr>\n",
       "    <tr>\n",
       "      <th>3</th>\n",
       "      <td>HA</td>\n",
       "      <td>Hydrogen acceptor</td>\n",
       "      <td>5.00</td>\n",
       "      <td>11.00</td>\n",
       "    </tr>\n",
       "    <tr>\n",
       "      <th>4</th>\n",
       "      <td>a</td>\n",
       "      <td>-5.2</td>\n",
       "      <td>NaN</td>\n",
       "      <td>NaN</td>\n",
       "    </tr>\n",
       "    <tr>\n",
       "      <th>5</th>\n",
       "      <td>b</td>\n",
       "      <td>-0.62</td>\n",
       "      <td>NaN</td>\n",
       "      <td>NaN</td>\n",
       "    </tr>\n",
       "    <tr>\n",
       "      <th>6</th>\n",
       "      <td>c</td>\n",
       "      <td>1.149</td>\n",
       "      <td>NaN</td>\n",
       "      <td>NaN</td>\n",
       "    </tr>\n",
       "    <tr>\n",
       "      <th>7</th>\n",
       "      <td>w</td>\n",
       "      <td>0.78</td>\n",
       "      <td>NaN</td>\n",
       "      <td>NaN</td>\n",
       "    </tr>\n",
       "    <tr>\n",
       "      <th>8</th>\n",
       "      <td>x</td>\n",
       "      <td>-3.67</td>\n",
       "      <td>NaN</td>\n",
       "      <td>NaN</td>\n",
       "    </tr>\n",
       "    <tr>\n",
       "      <th>9</th>\n",
       "      <td>y</td>\n",
       "      <td>-1.109</td>\n",
       "      <td>NaN</td>\n",
       "      <td>NaN</td>\n",
       "    </tr>\n",
       "    <tr>\n",
       "      <th>10</th>\n",
       "      <td>z</td>\n",
       "      <td>-0.35</td>\n",
       "      <td>NaN</td>\n",
       "      <td>NaN</td>\n",
       "    </tr>\n",
       "  </tbody>\n",
       "</table>\n",
       "</div>"
      ],
      "text/plain": [
       "           Symbol          Physical quantity     min     max\n",
       "0              MW           Molecular weight  162.00  539.00\n",
       "1   log(P_{7,4 })  Log partition coefficient   -2.62    2.63\n",
       "2              HD             Hydrogen donor    0.00    3.00\n",
       "3              HA          Hydrogen acceptor    5.00   11.00\n",
       "4               a                       -5.2     NaN     NaN\n",
       "5               b                      -0.62     NaN     NaN\n",
       "6               c                      1.149     NaN     NaN\n",
       "7               w                       0.78     NaN     NaN\n",
       "8               x                      -3.67     NaN     NaN\n",
       "9               y                     -1.109     NaN     NaN\n",
       "10              z                      -0.35     NaN     NaN"
      ]
     },
     "execution_count": 1,
     "metadata": {},
     "output_type": "execute_result"
    }
   ],
   "source": [
    "#Sensitivity analysis for the diffusion coefficient with sobol\n",
    "import pandas as pd\n",
    "import numpy as np\n",
    "\n",
    "percorso_file_excel = 'Coefficienti.xlsx'\n",
    "\n",
    "\n",
    "nome_foglio = 'Dt'\n",
    "\n",
    "# Specifica le colonne da importare\n",
    "colonne_da_importare = ['Symbol','Physical quantity', 'min', 'max']\n",
    "\n",
    "# Leggi solo il foglio specifico e le colonne specifiche\n",
    "df = pd.read_excel(percorso_file_excel, sheet_name=nome_foglio, usecols=colonne_da_importare)\n",
    "df"
   ]
  },
  {
   "cell_type": "code",
   "execution_count": 2,
   "metadata": {},
   "outputs": [],
   "source": [
    "#Diffusion coefficient model\n",
    "import numpy as np\n",
    "a, b, c, w, x, y, z = -5.20, -0.62, 1.15, 0.78, -3.67, -1.11, -0.35\n",
    "qoi = np.zeros((df.shape[0],1))\n",
    "\n",
    "def Dt(input):\n",
    "    MW, logP, HD, HA = input\n",
    "    return np.exp(a + b * np.log(MW) + c/(1 + np.exp((logP - x + y * HD + z * HA) / w)))\n",
    "\n",
    "\n"
   ]
  },
  {
   "cell_type": "code",
   "execution_count": 3,
   "metadata": {},
   "outputs": [],
   "source": [
    "import numpy as np\n",
    "\n",
    "from SALib.test_functions import Ishigami\n",
    "from SALib import ProblemSpec\n",
    "\n",
    "\n",
    "\n",
    "sp = ProblemSpec({\n",
    "    'names': ['MW', 'logP', 'HD', 'HA'],\n",
    "    'bounds': [\n",
    "        [df.loc[0,'min'], df.loc[0,'max']],  # bounds for MW\n",
    "        [df.loc[1,'min'], df.loc[1,'max']],  # ... logP\n",
    "        [df.loc[2,'min'], df.loc[2,'max']],   # ... HD\n",
    "        [df.loc[3,'min'], df.loc[3,'max']]  #... HA\n",
    "    ],\n",
    "    'output' : ['Y']\n",
    "})\n",
    "\n",
    "\n"
   ]
  },
  {
   "cell_type": "code",
   "execution_count": 4,
   "metadata": {},
   "outputs": [
    {
     "data": {
      "text/plain": [
       "Samples:\n",
       "\t4 parameters: ['MW', 'logP', 'HD', 'HA']\n",
       "\t10240 evaluations\n",
       "Outputs:\n",
       "\t1 outputs: ['Y']\n",
       "\t10240 evaluations\n"
      ]
     },
     "execution_count": 4,
     "metadata": {},
     "output_type": "execute_result"
    }
   ],
   "source": [
    "#Sobol problem\n",
    "sp.sample_sobol(1024, calc_second_order=True)\n",
    "param_values = sp.samples\n",
    "Y = np.zeros([param_values.shape[0]])\n",
    "\n",
    "for i, X in enumerate(param_values):\n",
    "    Y[i] = Dt(X)\n",
    "\n",
    "# Provide the results to the interface\n",
    "sp.set_results(Y)"
   ]
  },
  {
   "cell_type": "code",
   "execution_count": 5,
   "metadata": {},
   "outputs": [
    {
     "name": "stdout",
     "output_type": "stream",
     "text": [
      "Samples:\n",
      "\t4 parameters: ['MW', 'logP', 'HD', 'HA']\n",
      "\t10240 evaluations\n",
      "Outputs:\n",
      "\t1 outputs: ['Y']\n",
      "\t10240 evaluations\n",
      "Analysis:\n",
      "            ST   ST_conf\n",
      "MW    0.308742  0.027854\n",
      "logP  0.506070  0.050872\n",
      "HD    0.195892  0.022121\n",
      "HA    0.080393  0.011177\n",
      "            S1   S1_conf\n",
      "MW    0.284110  0.052909\n",
      "logP  0.438246  0.056906\n",
      "HD    0.144697  0.033479\n",
      "HA    0.055195  0.021015\n",
      "                  S2   S2_conf\n",
      "(MW, logP)  0.016251  0.094706\n",
      "(MW, HD)    0.001169  0.089442\n",
      "(MW, HA)   -0.010115  0.078443\n",
      "(logP, HD)  0.034799  0.070107\n",
      "(logP, HA)  0.011030  0.067033\n",
      "(HD, HA)    0.006665  0.044656\n",
      "\n"
     ]
    }
   ],
   "source": [
    "sp.analyze_sobol()\n",
    "print(sp)"
   ]
  },
  {
   "cell_type": "code",
   "execution_count": 6,
   "metadata": {},
   "outputs": [
    {
     "data": {
      "image/png": "[encoded data removed]",
      "text/plain": [
       "<Figure size 1000x400 with 3 Axes>"
      ]
     },
     "metadata": {},
     "output_type": "display_data"
    }
   ],
   "source": [
    "import matplotlib.pyplot as plt\n",
    "import matplotlib.pyplot as plt\n",
    "\n",
    "\n",
    "axes = sp.plot()\n",
    "axes[0].set_yscale('log')\n",
    "fig = plt.gcf()  # get current figure\n",
    "fig.set_size_inches(10, 4)\n",
    "plt.tight_layout()"
   ]
  },
  {
   "cell_type": "code",
   "execution_count": 7,
   "metadata": {},
   "outputs": [
    {
     "name": "stdout",
     "output_type": "stream",
     "text": [
      "1.13e-04\n",
      "7.41e-04\n"
     ]
    }
   ],
   "source": [
    "#Maximum and minimum of the diffusion coefficients\n",
    "from IPython.display import clear_output\n",
    "min_D = 1\n",
    "max_D = 0\n",
    "for i in param_values:\n",
    "    D = Dt(i)\n",
    "    if D > max_D:\n",
    "        max_D = D\n",
    "    elif D < min_D:\n",
    "        min_D = D\n",
    "\n",
    "\n",
    "print(f\"{min_D:.2e}\")\n",
    "print(f\"{max_D:.2e}\")\n"
   ]
  }
 ],
 "metadata": {
  "kernelspec": {
   "display_name": "Python 3",
   "language": "python",
   "name": "python3"
  },
  "language_info": {
   "codemirror_mode": {
    "name": "ipython",
    "version": 3
   },
   "file_extension": ".py",
   "mimetype": "text/x-python",
   "name": "python",
   "nbconvert_exporter": "python",
   "pygments_lexer": "ipython3",
   "version": "3.12.2"
  }
 },
 "nbformat": 4,
 "nbformat_minor": 2
}
