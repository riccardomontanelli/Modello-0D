{
 "cells": [
  {
   "cell_type": "code",
   "execution_count": 1,
   "metadata": {},
   "outputs": [],
   "source": [
    "#Import of the ranges of variation of the variables used ofr the sensitivity analysis, in order to save in a matrix for Matlab\n",
    "import pandas as pd\n",
    "import numpy as np\n",
    "\n",
    "percorso_file_excel = 'Ranges.xlsx'\n",
    "\n",
    "\n",
    "df = pd.read_excel(percorso_file_excel)\n",
    "\n",
    "nome_foglio = 'ct'\n",
    "\n",
    "# Specifica le colonne da importare\n",
    "colonne_da_importare = ['Symbol', 'min', 'max']\n",
    "\n",
    "# Leggi solo il foglio specifico e le colonne specifiche\n",
    "df = pd.read_excel(percorso_file_excel, sheet_name=nome_foglio, usecols=colonne_da_importare)"
   ]
  },
  {
   "cell_type": "code",
   "execution_count": 4,
   "metadata": {},
   "outputs": [],
   "source": [
    "# Matrix of the name of the parameters for matlab\n",
    "import scipy.io\n",
    "array_di_stringhe = df.loc[:,'Symbol']\n",
    "scipy.io.savemat('safe_R1.1\\parametri.mat', {'parametri': array_di_stringhe})"
   ]
  },
  {
   "cell_type": "code",
   "execution_count": 3,
   "metadata": {},
   "outputs": [],
   "source": [
    "# Matrix of the ranges of variation of the parameters for matlab\n",
    "DistrPar = np.array(df.loc[:,['min', 'max']])\n",
    "DistrPar\n",
    "\n",
    "from scipy.io import savemat\n",
    "\n",
    "nome_variabile_matlab = 'DistrPar'\n",
    "\n",
    "savemat('safe_R1.1\\Bound_parametri.mat', {nome_variabile_matlab: DistrPar})\n"
   ]
  }
 ],
 "metadata": {
  "kernelspec": {
   "display_name": "Python 3",
   "language": "python",
   "name": "python3"
  },
  "language_info": {
   "codemirror_mode": {
    "name": "ipython",
    "version": 3
   },
   "file_extension": ".py",
   "mimetype": "text/x-python",
   "name": "python",
   "nbconvert_exporter": "python",
   "pygments_lexer": "ipython3",
   "version": "3.11.0"
  }
 },
 "nbformat": 4,
 "nbformat_minor": 2
}
